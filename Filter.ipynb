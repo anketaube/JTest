{
 "cells": [
  {
   "cell_type": "code",
   "execution_count": 1,
   "metadata": {},
   "outputs": [],
   "source": [
    "from polymatheia.data.reader import LocalReader\n",
    "from polymatheia.filter import RecordsFilter"
   ]
  },
  {
   "cell_type": "code",
   "execution_count": 2,
   "metadata": {},
   "outputs": [],
   "source": [
    "reader = LocalReader('europeana_test')"
   ]
  },
  {
   "cell_type": "code",
   "execution_count": 4,
   "metadata": {},
   "outputs": [
    {
     "name": "stdout",
     "output_type": "stream",
     "text": [
      "0\n"
     ]
    }
   ],
   "source": [
    "fltr = ('false',)\n",
    "filtered = RecordsFilter(reader, fltr)\n",
    "count = 0\n",
    "for record in filtered:\n",
    "    count = count + 1\n",
    "print(count)"
   ]
  },
  {
   "cell_type": "code",
   "execution_count": 5,
   "metadata": {},
   "outputs": [
    {
     "name": "stdout",
     "output_type": "stream",
     "text": [
      "IMAGE\n",
      "IMAGE\n",
      "IMAGE\n",
      "IMAGE\n",
      "IMAGE\n",
      "IMAGE\n",
      "IMAGE\n",
      "IMAGE\n",
      "IMAGE\n",
      "IMAGE\n",
      "IMAGE\n",
      "IMAGE\n",
      "IMAGE\n",
      "IMAGE\n",
      "IMAGE\n",
      "IMAGE\n",
      "IMAGE\n",
      "IMAGE\n",
      "IMAGE\n",
      "IMAGE\n",
      "IMAGE\n",
      "IMAGE\n",
      "IMAGE\n",
      "IMAGE\n",
      "IMAGE\n",
      "IMAGE\n",
      "IMAGE\n",
      "IMAGE\n",
      "IMAGE\n",
      "IMAGE\n",
      "IMAGE\n",
      "IMAGE\n",
      "IMAGE\n",
      "IMAGE\n",
      "IMAGE\n",
      "IMAGE\n",
      "IMAGE\n",
      "IMAGE\n",
      "IMAGE\n",
      "IMAGE\n",
      "IMAGE\n",
      "IMAGE\n",
      "IMAGE\n",
      "IMAGE\n",
      "IMAGE\n",
      "IMAGE\n",
      "IMAGE\n",
      "IMAGE\n",
      "IMAGE\n",
      "IMAGE\n",
      "IMAGE\n",
      "IMAGE\n",
      "IMAGE\n",
      "IMAGE\n",
      "IMAGE\n",
      "IMAGE\n",
      "IMAGE\n",
      "IMAGE\n",
      "IMAGE\n",
      "IMAGE\n",
      "IMAGE\n",
      "IMAGE\n",
      "IMAGE\n",
      "IMAGE\n",
      "IMAGE\n",
      "IMAGE\n",
      "IMAGE\n",
      "IMAGE\n",
      "IMAGE\n",
      "IMAGE\n",
      "IMAGE\n",
      "IMAGE\n",
      "IMAGE\n",
      "IMAGE\n",
      "IMAGE\n",
      "IMAGE\n",
      "IMAGE\n",
      "IMAGE\n",
      "IMAGE\n",
      "IMAGE\n",
      "IMAGE\n",
      "IMAGE\n",
      "IMAGE\n",
      "IMAGE\n",
      "IMAGE\n",
      "IMAGE\n",
      "IMAGE\n",
      "IMAGE\n",
      "IMAGE\n",
      "IMAGE\n",
      "IMAGE\n",
      "IMAGE\n",
      "IMAGE\n",
      "IMAGE\n",
      "IMAGE\n",
      "IMAGE\n",
      "IMAGE\n",
      "IMAGE\n",
      "IMAGE\n",
      "IMAGE\n",
      "IMAGE\n",
      "101\n"
     ]
    }
   ],
   "source": [
    "fltr = ('eq', ['type'], 'IMAGE')\n",
    "images = RecordsFilter(reader, fltr)\n",
    "count = 0\n",
    "for record in images:\n",
    "    count = count + 1\n",
    "    print(record.type)\n",
    "print(count)"
   ]
  },
  {
   "cell_type": "code",
   "execution_count": 7,
   "metadata": {},
   "outputs": [
    {
     "name": "stdout",
     "output_type": "stream",
     "text": [
      "858\n"
     ]
    }
   ],
   "source": [
    "fltr = ('lte', ['europeanaCompleteness'], 9)\n",
    "complete = RecordsFilter(reader, fltr)\n",
    "count = 0\n",
    "for record in complete:\n",
    "    count = count + 1\n",
    "print(count)"
   ]
  },
  {
   "cell_type": "code",
   "execution_count": 8,
   "metadata": {},
   "outputs": [
    {
     "name": "stdout",
     "output_type": "stream",
     "text": [
      "101\n"
     ]
    }
   ],
   "source": [
    "fltr = ('contains', ['dcLanguage'], 'ger')\n",
    "german = RecordsFilter(reader, fltr)\n",
    "count = 0\n",
    "for record in german:\n",
    "    count = count + 1\n",
    "print(count)"
   ]
  },
  {
   "cell_type": "code",
   "execution_count": 9,
   "metadata": {},
   "outputs": [
    {
     "name": "stdout",
     "output_type": "stream",
     "text": [
      "921\n"
     ]
    }
   ],
   "source": [
    "with_language = RecordsFilter(reader, ('exists', ['dcLanguage']))\n",
    "count = 0\n",
    "for record in with_language:\n",
    "    count = count + 1\n",
    "print(count)"
   ]
  },
  {
   "cell_type": "code",
   "execution_count": 10,
   "metadata": {},
   "outputs": [
    {
     "name": "stdout",
     "output_type": "stream",
     "text": [
      "428\n"
     ]
    }
   ],
   "source": [
    "fltr = ('not', ('contains', ['dcLanguage'], 'de'))\n",
    "not_german = RecordsFilter(reader, fltr)\n",
    "count = 0\n",
    "for record in not_german:\n",
    "    count = count + 1\n",
    "print(count)"
   ]
  },
  {
   "cell_type": "code",
   "execution_count": 11,
   "metadata": {},
   "outputs": [
    {
     "name": "stdout",
     "output_type": "stream",
     "text": [
      "13\n"
     ]
    }
   ],
   "source": [
    "fltr = ('and', ('contains', ['dcLanguage'], 'de'), ('eq', ['type'], 'IMAGE'))\n",
    "german_images = RecordsFilter(reader, fltr)\n",
    "count = 0\n",
    "for record in german_images:\n",
    "    count = count + 1\n",
    "print(count)"
   ]
  },
  {
   "cell_type": "code",
   "execution_count": 12,
   "metadata": {},
   "outputs": [
    {
     "name": "stdout",
     "output_type": "stream",
     "text": [
      "14\n"
     ]
    }
   ],
   "source": [
    "fltr = ('and',\n",
    "            ('or',\n",
    "                ('contains', ['dcLanguage'], 'de'),\n",
    "                ('contains', ['dcLanguage'], 'ger')),\n",
    "            ('eq', ['type'], 'IMAGE'))\n",
    "full_german_images = RecordsFilter(reader, fltr)\n",
    "count = 0\n",
    "for record in full_german_images:\n",
    "    count = count + 1\n",
    "print(count)"
   ]
  },
  {
   "cell_type": "code",
   "execution_count": null,
   "metadata": {},
   "outputs": [],
   "source": []
  }
 ],
 "metadata": {
  "kernelspec": {
   "display_name": "Python 3",
   "language": "python",
   "name": "python3"
  },
  "language_info": {
   "codemirror_mode": {
    "name": "ipython",
    "version": 3
   },
   "file_extension": ".py",
   "mimetype": "text/x-python",
   "name": "python",
   "nbconvert_exporter": "python",
   "pygments_lexer": "ipython3",
   "version": "3.8.5"
  }
 },
 "nbformat": 4,
 "nbformat_minor": 4
}
