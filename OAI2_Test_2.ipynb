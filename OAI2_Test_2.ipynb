{
 "cells": [
  {
   "cell_type": "markdown",
   "metadata": {
    "nbpresent": {
     "id": "d0d72cd5-034d-4b94-a4e2-54f7753cb9f0"
    }
   },
   "source": [
    "# DNBLab Jupyter Notebook Tutorial"
   ]
  },
  {
   "cell_type": "markdown",
   "metadata": {
    "nbpresent": {
     "id": "558898c3-e162-4e46-92d5-b4c914325790"
    }
   },
   "source": [
    "## OAI2 - Schnittstellenabfrage, Datenauslieferung und Ergebnisanzeige"
   ]
  },
  {
   "cell_type": "markdown",
   "metadata": {
    "nbpresent": {
     "id": "ee78241c-36e7-45e6-b015-0ef46f1e777d"
    }
   },
   "source": [
    "Dieses DNBLab-Tutorial beschreibt Beispielabfragen über die OAI2-Schnittstelle zu frei verfügbaren digitalen Objektsammlungen mit Python. In der Jupyter Notebook Umgebung kann der dokumentierte Code direkt ausgeführt und angepasst werden. Das Tutorial umfasst die exemplarische Anfrage und Ausgabe der Daten in den verschiedenen Metadatenformaten zur weiteren Verarbeitung. Die Daten werden über die OAI2-Schnittstelle standardmäßig als XML-Antwort in dem Format METS/MODS ausgeliefert. Zusätzlich steht die Auslieferung der Daten in Dublin Core (dc) zur Verfügung.\n",
    "\n",
    "**Inhaltsverzeichnis:** \n",
    "\n",
    "* [1. Einrichten der Arbeitsumgebung](#Teil1)\n",
    "* [2. Ausgabe von Titeln eines Projekts in bestimmten Zeitraum](#Teil2)\n",
    "* [3. Zusätzliche Ausgabe der Links zu den Objekten](#Teil3)\n",
    "* [4. Ausgabe der gescannten Bilder](#Teil4)"
   ]
  },
  {
   "cell_type": "markdown",
   "metadata": {
    "nbpresent": {
     "id": "3c6f6024-cb7c-4b65-8646-a753069cb5a4"
    }
   },
   "source": [
    "###1. Einrichten der Arbeitsumgebung <a class=\"anchor\" id=\"Teil1\"></a>\n",
    "\n",
    "Um die Arbeitsumgebung für die folgenden Schritte passend einzurichten, sollten zunächst die benötigten Python-Bibliotheken importiert werden. Für Anfragen über die OAI2 Schnittstelle wird sickle https://sickle.readthedocs.io/en/latest/tutorial.html und zur Verarbeitung der XML-Daten etree https://docs.python.org/3/library/xml.etree.elementtree.html verwendet."
   ]
  },
  {
   "cell_type": "code",
   "execution_count": null,
   "metadata": {
    "collapsed": false,
    "nbpresent": {
     "id": "a2b0e830-8e6f-4646-9e9b-957aab5f1e22"
    },
    "scrolled": true
   },
   "outputs": [],
   "source": [
    "from sickle import Sickle\n",
    "from lxml import etree"
   ]
  },
  {
   "cell_type": "markdown",
   "metadata": {
    "nbpresent": {
     "id": "f08445b9-dca9-4851-a7f7-dad2ba78648a"
    }
   },
   "source": [
    "Die OAI2 Basis URL ist http://services.dnb.de/oai2/repository. "
   ]
  },
  {
   "cell_type": "code",
   "execution_count": 2,
   "metadata": {
    "collapsed": true,
    "nbpresent": {
     "id": "d94fcab7-8aab-4f9f-b77f-2742528ed82e"
    }
   },
   "outputs": [],
   "source": [
    "sickle = Sickle('http://services.dnb.de/oai2/repository')"
   ]
  },
  {
   "cell_type": "markdown",
   "metadata": {},
   "source": [
    "Im nächsten Schritt werden alle verfügbaren Objektsammlungen (Projekte) mit der Funktion ListSets abgefragt und angezeigt."
   ]
  },
  {
   "cell_type": "code",
   "execution_count": null,
   "metadata": {
    "collapsed": true
   },
   "outputs": [],
   "source": [
    "oai_sets = sickle.ListSets()\n",
    "for oai_set in oai_sets:\n",
    "    print('setSpec value for selective harvesting: ' + oai_set.setSpec)\n",
    "    print('Name of the set (setName): ' + oai_set.setName + '\\n')"
   ]
  },
  {
   "cell_type": "markdown",
   "metadata": {
    "nbpresent": {
     "id": "ce85f36a-f323-4361-ad10-d86ebd8a0752"
    }
   },
   "source": [
    "Die bisher zur Verfügung stehenden freien Objektsammlungen entsprechen folgenden Projekten (oai_sets):\n",
    " \n",
    "| oai_set | Beschreibung | Anzeige im Katalog |\n",
    "| --- | --- | --- |\n",
    "| dnb:digitalisate-oa:projekt4 | 100.000 Seiten aus 30 Titeln, die ein breites Spektrum der Exilpresse 1933-1945 repräsentieren | <a href=https://portal.dnb.de/opac.htm?method=showPreviousResultSite&currentResultId=%22exilpresse%22+and+%22digital%22%26any%26dnb.dea.exp%26leipzig&currentPosition=10>Sammlung im Katalog</a>\n",
    "| dnb:digitalisate-oa:projekt7 | Gemeinfreie Digitalisate der Exilsammlungen | <a href=https://portal.dnb.de/opac.htm?query=cod%3Dd007+location%3Donlinefree+&method=simpleSearch&cqlMode=true>Sammlung im Katalog</a>\n",
    "| dnb:digitalisate-oa:projekt8 | 1Mehr als 1.200 Bücher, Broschüren, Plakate und andere Einblattdrucke zum Weltkrieg 1914-1918 | <a href=https://portal.dnb.de/opac.htm?query=cod%3Dd008+location%3Donlinefree+&method=simpleSearch&cqlMode=true>Sammlung im Katalog</a>\n",
    "| dnb:digitalisate-oa:projekt26 | Mehr als 600 digitalisierte Quellen zur deutschen Revolution 1918/1919 und zur Nachkriegszeit | <a href=https://portal.dnb.de/opac.htm?query=cod%3Dd026+location%3Donlinefree+&method=simpleSearch&cqlMode=true>Sammlung im Katalog</a>\n",
    "| dnb:digitalisate-oa:projekt28 | Digitalisierte Werke aus Architektur, Design, Malerei und Druckkunst von 1918 bis 1933 | <a href=https://portal.dnb.de/opac.htm?query=cod%3Dd028+location%3Donlinefree+&method=simpleSearch&cqlMode=true>Sammlung im Katalog</a>\n",
    "| dnb:digitalisate-oa:projekt29 | Mehr als 2.400 Bildnisse von Buchhändlern, Buchdruckern und Verlegern des 17. bis 20. Jahrhunderts | <a href=https://portal.dnb.de/opac.htm?query=cod%3Dd029+location%3Donlinefree+&method=simpleSearch&cqlMode=true>Sammlung im Katalog</a>\n",
    "\n",
    "Die verfügbaren Metadatenformate können mit der Funktion ListMetadataFormats abgefragt und mit print() ausgegeben werden. \n"
   ]
  },
  {
   "cell_type": "code",
   "execution_count": null,
   "metadata": {
    "collapsed": true
   },
   "outputs": [],
   "source": [
    "oai_formats = sickle.ListMetadataFormats()\n",
    "for oai_format in oai_formats:\n",
    "    print(oai_format.metadataPrefix)"
   ]
  },
  {
   "cell_type": "markdown",
   "metadata": {},
   "source": [
    "###2. Ausgabe von Titeln eines Projekts in bestimmten Zeitraum <a class=\"anchor\" id=\"Teil2\"></a>"
   ]
  },
  {
   "cell_type": "markdown",
   "metadata": {},
   "source": [
    "Um beispielhaft alle Datensätze der Buchhändlerportraits (Projekt29) ab dem 01.04.2019 aufzulisten, müssen für die Abfrage Metadatenformat, Zeitraum und Projekt angegeben werden.\n",
    "Die OAI Funktionen werden unter http://www.openarchives.org/OAI/2.0/ spezifiziert und auf der DNBLab Seite unter Funktionen beschrieben.\n",
    "Die Daten befinden sich in der XML-Antwort als Inhalt zwischen beschreibenden <Tags>. Für die gezielte Abfrage der gewünschten Informationen aus dem Metadatenformat dc, können bei Bedarf die dc-Spezifikationen http://www.openarchives.org/OAI/2.0/oai_dc/ und http://purl.org/dc/elements/1.1/ herangezogen werden.\n"
   ]
  },
  {
   "cell_type": "code",
   "execution_count": 30,
   "metadata": {
    "collapsed": false,
    "nbpresent": {
     "id": "c63ad31c-da44-43fc-a2bf-84c28a3e05b9"
    }
   },
   "outputs": [
    {
     "name": "stdout",
     "output_type": "stream",
     "text": [
      "1: Porträt Wilhelm Volkmann (1837 - 1896) : Heliogravüre / Bez. u.l.: Phot. Aufnahme von Georg Brokesch, Leipzig; u.r.: Photogravure R. Paulussen, Wien\n",
      "Porträt Wilhelm Volkmann (1837 - 1896) : Heliogravüre / Bez. u.l.: Phot. Aufnahme von Georg Brokesch, Leipzig; u.r.: Photogravure R. Paulussen, Wien\n",
      "2: Porträt Johann Baptist Strobel (1748 - 1805) und seine Kinder : Heliogravüre / Bez. u.r.: F. BRUCKMANN A. G. MÜNCHEN\n",
      "Porträt Johann Baptist Strobel (1748 - 1805) und seine Kinder : Heliogravüre / Bez. u.r.: F. BRUCKMANN A. G. MÜNCHEN\n",
      "3: Porträt Ernst A. Seemann (1829 - 1904) : Heliogravüre / Bez. u.M.: Photogravure R. Paulussen, Wien\n",
      "Porträt Ernst A. Seemann (1829 - 1904) : Heliogravüre / Bez. u.M.: Photogravure R. Paulussen, Wien\n",
      "4: Porträt Johann Leonhard Schrag (1783 - 1858) : Heliogravüre / Bez. u.l.: M.? Wolfsheimer pinx.; u.r.: Photogravure Bruckmann\n",
      "Porträt Johann Leonhard Schrag (1783 - 1858) : Heliogravüre / Bez. u.l.: M.? Wolfsheimer pinx.; u.r.: Photogravure Bruckmann\n",
      "5: Porträt Christian Friedrich Adolf Rost (1790 - 1856) : Lithographie / Bez. um Oval u.l.: A. Schieferdecker lith. / Leipzig 1857.; im Oval u.r.: Druck d. Kön. lith. Inst. zu Berlin; darunter u.l.: Gem. v. A. Brasch.\n",
      "Porträt Christian Friedrich Adolf Rost (1790 - 1856) : Lithographie / Bez. um Oval u.l.: A. Schieferdecker lith. / Leipzig 1857.; im Oval u.r.: Druck d. Kön. lith. Inst. zu Berlin; darunter u.l.: Gem. v. A. Brasch.\n",
      "6: Porträt Moritz Perles (1844 - 1917) : Heliogravüre / Bez. u.M.: PHOTOGRAVURE R. PAULUSSEN, Wien\n",
      "Porträt Moritz Perles (1844 - 1917) : Heliogravüre / Bez. u.M.: PHOTOGRAVURE R. PAULUSSEN, Wien\n",
      "7: Porträt Eugen Marx (1844 - 1934) : Heliogravüre / Bez. u.M.: Photogravure von R. Paulussen, Wien.\n",
      "Porträt Eugen Marx (1844 - 1934) : Heliogravüre / Bez. u.M.: Photogravure von R. Paulussen, Wien.\n",
      "8: Porträt Karl August von Hase (1800 - 1890) : Radierung / Bez. u.r.: L. Otto sc.; unter der Bildunterschrift: Verlag von Breitkopf & Härtel in Leipzig; Druck von F. A. Brockhaus\n",
      "Porträt Karl August von Hase (1800 - 1890) : Radierung / Bez. u.r.: L. Otto sc.; unter der Bildunterschrift: Verlag von Breitkopf & Härtel in Leipzig; Druck von F. A. Brockhaus\n",
      "9: Porträt Karl August von Hase (1800 - 1890) : Lithographie / Bez. u.l.: Gedr. bei Fr. Hanfstaengl; u.r. Fr. Pecht fl. Leipzig 1838; unter der Bildunterschrift: Verlag von Breitkopf und Härtel in Leipzig.\n",
      "Porträt Karl August von Hase (1800 - 1890) : Lithographie / Bez. u.l.: Gedr. bei Fr. Hanfstaengl; u.r. Fr. Pecht fl. Leipzig 1838; unter der Bildunterschrift: Verlag von Breitkopf und Härtel in Leipzig.\n",
      "10: Porträt Karl August von Hase (1800 - 1890) : Stahlstich / Bez. u.l.: gem. v. F. Dürck; u.r.: gest. v. A. Schultheiß; unter der Bildunterschrift: Verlag von Breitkopf & Härtel in Leipzig, gedr. v. Th. Zehl jun. Leipzig.\n",
      "Porträt Karl August von Hase (1800 - 1890) : Stahlstich / Bez. u.l.: gem. v. F. Dürck; u.r.: gest. v. A. Schultheiß; unter der Bildunterschrift: Verlag von Breitkopf & Härtel in Leipzig, gedr. v. Th. Zehl jun. Leipzig.\n",
      "11: Porträt Friedrich Johannes Frommann : Holzstich / Bez. u.l.: X.A.v. O. ROTH\n",
      "Porträt Friedrich Johannes Frommann : Holzstich / Bez. u.l.: X.A.v. O. ROTH\n",
      "12: Porträt Franz Deuticke : Heliogravüre / Bez. u.M.: Photogravure von R. Paulussen, Wien.\n",
      "Porträt Franz Deuticke : Heliogravüre / Bez. u.M.: Photogravure von R. Paulussen, Wien.\n",
      "13: Porträt Joseph Vinzenz Degen : Punktiermanier / Bez. u. M.: Agricola pinx: 1804. F: John sc\n",
      "Porträt Joseph Vinzenz Degen : Punktiermanier / Bez. u. M.: Agricola pinx: 1804. F: John sc\n",
      "14: Porträt John Boydell : Punktiermanier mit Ätzung / Bez. u.l.: C. Borckhardt del.; u.r.: B. Smith sculpsit; Verlegeradresse unter der Schrift: Pub Jan 10 1906 by Boydell & C° Cheapside London\n",
      "Porträt John Boydell : Punktiermanier mit Ätzung / Bez. u.l.: C. Borckhardt del.; u.r.: B. Smith sculpsit; Verlegeradresse unter der Schrift: Pub Jan 10 1906 by Boydell & C° Cheapside London\n",
      "15: Porträt John Boydell (1719 - 1804) : Punktiermanier mit Ätzung / Bez. u.l.: Painted by G. Stuart; u.r.: Engraved by Facius; Verlegeradresse unter der Schrift: Pub'd June 4. 1802. by J. et J. Boydell N°. 90. Cheapside et at the Shakespeare Gallery Pall Mall, London.\n",
      "Porträt John Boydell (1719 - 1804) : Punktiermanier mit Ätzung / Bez. u.l.: Painted by G. Stuart; u.r.: Engraved by Facius; Verlegeradresse unter der Schrift: Pub'd June 4. 1802. by J. et J. Boydell N°. 90. Cheapside et at the Shakespeare Gallery Pall Mall, London.\n",
      "16: Porträt Franz Kroh (Pseudonym Hans Blumenthal) : Heliogravüre / Bez. u.M.: PHOTOGRAVURE R. PAULUSSEN, Wien\n",
      "Porträt Franz Kroh (Pseudonym Hans Blumenthal) : Heliogravüre / Bez. u.M.: PHOTOGRAVURE R. PAULUSSEN, Wien\n"
     ]
    }
   ],
   "source": [
    "namespaces = {\n",
    "    'oai': 'http://www.openarchives.org/OAI/2.0/',\n",
    "    'oai_dc': 'http://www.openarchives.org/OAI/2.0/oai_dc/',\n",
    "    'dc': 'http://purl.org/dc/elements/1.1/'\n",
    "}\n",
    "\n",
    "count=0\n",
    "\n",
    "for record in sickle.ListRecords(**{'metadataPrefix': 'oai_dc', 'from': '2019-04-30', 'set': 'dnb:digitalisate-oa:projekt29'}):\n",
    "    \n",
    "    if ('ger' in record.raw):\n",
    "        #print('-' + record.raw + '-')\n",
    "        tree = etree.ElementTree(record.xml)\n",
    "        result = tree.xpath('/oai:record/oai:metadata/oai_dc:dc/dc:title/text()', namespaces=namespaces)\n",
    "        if (result):\n",
    "            count += 1\n",
    "            author = tree.xpath('/oai:record/oai:metadata/oai_dc:dc/dc:title/text()', namespaces=namespaces)\n",
    "            print(str(count) + \": \" + result[0])\n",
    "            if author:\n",
    "                print(author[0])"
   ]
  },
  {
   "cell_type": "markdown",
   "metadata": {
    "collapsed": true
   },
   "source": [
    "###3. Zusätzliche Ausgabe der Links zu den Objekten <a class=\"anchor\" id=\"Teil3\"></a>"
   ]
  },
  {
   "cell_type": "markdown",
   "metadata": {},
   "source": [
    "Damit zusätzlich zu den Titeln die Links zu den Objekten ausgegeben werden, wird der URN entsprechend des dc-Schemas /oai:record/oai:metadata/oai_dc:dc/dc:identifier/text() angesprochen und zusammen mit dem Titel durchnummeriert angezeigt. "
   ]
  },
  {
   "cell_type": "code",
   "execution_count": null,
   "metadata": {
    "collapsed": true
   },
   "outputs": [],
   "source": []
  },
  {
   "cell_type": "markdown",
   "metadata": {},
   "source": [
    "###4. Ausgabe der gescannten Bilder <a class=\"anchor\" id=\"Teil4\"></a>"
   ]
  },
  {
   "cell_type": "markdown",
   "metadata": {},
   "source": [
    "Das Format mets bildet neben den bibliographischen Daten im Format mods die Struktur der digitalen Objekte bzw. die Reihenfolge der gescannten Bilder ab. Für die gezielte Abfrage der gewünschten Informationen aus dem Metadatenformat mets können bei Bedarf die mets-Spezifikationen http://www.loc.gov/METS/ und https://www.loc.gov/standards/mets/mets.xsd herangezogen werden. Die Links der einzelnen Bilder können über <xsd:element name=\"fileGrp\"> angesprochen und zur weiteren Verarbeitung ausgegeben werden."
   ]
  },
  {
   "cell_type": "code",
   "execution_count": null,
   "metadata": {
    "collapsed": true
   },
   "outputs": [],
   "source": []
  }
 ],
 "metadata": {
  "anaconda-cloud": {},
  "kernelspec": {
   "display_name": "Python [default]",
   "language": "python",
   "name": "python3"
  },
  "language_info": {
   "codemirror_mode": {
    "name": "ipython",
    "version": 3
   },
   "file_extension": ".py",
   "mimetype": "text/x-python",
   "name": "python",
   "nbconvert_exporter": "python",
   "pygments_lexer": "ipython3",
   "version": "3.5.2"
  }
 },
 "nbformat": 4,
 "nbformat_minor": 2
}
