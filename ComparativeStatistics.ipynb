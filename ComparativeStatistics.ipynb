{
 "cells": [
  {
   "cell_type": "code",
   "execution_count": 1,
   "metadata": {},
   "outputs": [],
   "source": [
    "from collections import Counter\n",
    "from pandas import DataFrame\n",
    "from polymatheia.data.reader import LocalReader\n",
    "from polymatheia.data.writer import PandasDFWriter\n",
    "from polymatheia.filter import RecordsFilter\n",
    "from polymatheia.transform import RecordsTransform\n",
    "from scipy import stats"
   ]
  },
  {
   "cell_type": "code",
   "execution_count": 2,
   "metadata": {},
   "outputs": [],
   "source": [
    "reader = LocalReader('europeana_test')\n",
    "mapping = ('parallel', ('copy', 'id', 'id'),\n",
    "                       ('copy', 'lang', 'dcLanguage[0]'),\n",
    "                       ('custom', 'title_tokens', lambda record: len(record.title[0].split())),\n",
    "                       ('copy', 'completeness', 'europeanaCompleteness'),\n",
    "                       ('copy', 'type', 'type'))\n",
    "transformed = RecordsTransform(reader, mapping)\n",
    "fltr = ('and', ('exists', ['lang']),\n",
    "               ('neq', ['lang'], 'mul'),\n",
    "               ('lt', ['title_tokens'], 30))\n",
    "filtered = RecordsFilter(transformed, fltr)\n",
    "df = PandasDFWriter().write(filtered)"
   ]
  },
  {
   "cell_type": "code",
   "execution_count": 3,
   "metadata": {},
   "outputs": [
    {
     "data": {
      "text/html": [
       "<div>\n",
       "<style scoped>\n",
       "    .dataframe tbody tr th:only-of-type {\n",
       "        vertical-align: middle;\n",
       "    }\n",
       "\n",
       "    .dataframe tbody tr th {\n",
       "        vertical-align: top;\n",
       "    }\n",
       "\n",
       "    .dataframe thead th {\n",
       "        text-align: right;\n",
       "    }\n",
       "</style>\n",
       "<table border=\"1\" class=\"dataframe\">\n",
       "  <thead>\n",
       "    <tr style=\"text-align: right;\">\n",
       "      <th></th>\n",
       "      <th>id</th>\n",
       "      <th>lang</th>\n",
       "      <th>title_tokens</th>\n",
       "      <th>completeness</th>\n",
       "      <th>type</th>\n",
       "    </tr>\n",
       "  </thead>\n",
       "  <tbody>\n",
       "    <tr>\n",
       "      <th>0</th>\n",
       "      <td>/9200386/BibliographicResource_3000044752173</td>\n",
       "      <td>de</td>\n",
       "      <td>13</td>\n",
       "      <td>9</td>\n",
       "      <td>TEXT</td>\n",
       "    </tr>\n",
       "    <tr>\n",
       "      <th>1</th>\n",
       "      <td>/0940434/_nnbZnb3</td>\n",
       "      <td>la</td>\n",
       "      <td>15</td>\n",
       "      <td>0</td>\n",
       "      <td>TEXT</td>\n",
       "    </tr>\n",
       "    <tr>\n",
       "      <th>2</th>\n",
       "      <td>/9200332/ABO__2BZ22634790X</td>\n",
       "      <td>ger</td>\n",
       "      <td>6</td>\n",
       "      <td>5</td>\n",
       "      <td>TEXT</td>\n",
       "    </tr>\n",
       "    <tr>\n",
       "      <th>3</th>\n",
       "      <td>/2059210/data_sounds_http___imslp_org_wiki_5_L...</td>\n",
       "      <td>deu</td>\n",
       "      <td>9</td>\n",
       "      <td>0</td>\n",
       "      <td>IMAGE</td>\n",
       "    </tr>\n",
       "    <tr>\n",
       "      <th>4</th>\n",
       "      <td>/2048609/data_item_uber_dingler_article_pj199_...</td>\n",
       "      <td>de</td>\n",
       "      <td>12</td>\n",
       "      <td>5</td>\n",
       "      <td>TEXT</td>\n",
       "    </tr>\n",
       "    <tr>\n",
       "      <th>...</th>\n",
       "      <td>...</td>\n",
       "      <td>...</td>\n",
       "      <td>...</td>\n",
       "      <td>...</td>\n",
       "      <td>...</td>\n",
       "    </tr>\n",
       "    <tr>\n",
       "      <th>759</th>\n",
       "      <td>/9200332/ABO__2BZ226348307</td>\n",
       "      <td>ger</td>\n",
       "      <td>6</td>\n",
       "      <td>5</td>\n",
       "      <td>TEXT</td>\n",
       "    </tr>\n",
       "    <tr>\n",
       "      <th>760</th>\n",
       "      <td>/9200386/BibliographicResource_3000045010262</td>\n",
       "      <td>de</td>\n",
       "      <td>4</td>\n",
       "      <td>7</td>\n",
       "      <td>TEXT</td>\n",
       "    </tr>\n",
       "    <tr>\n",
       "      <th>761</th>\n",
       "      <td>/9200386/BibliographicResource_3000045248460</td>\n",
       "      <td>de</td>\n",
       "      <td>10</td>\n",
       "      <td>8</td>\n",
       "      <td>TEXT</td>\n",
       "    </tr>\n",
       "    <tr>\n",
       "      <th>762</th>\n",
       "      <td>/9200386/BibliographicResource_3000135531152</td>\n",
       "      <td>de</td>\n",
       "      <td>5</td>\n",
       "      <td>10</td>\n",
       "      <td>TEXT</td>\n",
       "    </tr>\n",
       "    <tr>\n",
       "      <th>763</th>\n",
       "      <td>/9200386/BibliographicResource_3000045248646</td>\n",
       "      <td>de</td>\n",
       "      <td>10</td>\n",
       "      <td>8</td>\n",
       "      <td>TEXT</td>\n",
       "    </tr>\n",
       "  </tbody>\n",
       "</table>\n",
       "<p>764 rows × 5 columns</p>\n",
       "</div>"
      ],
      "text/plain": [
       "                                                    id lang  title_tokens  \\\n",
       "0         /9200386/BibliographicResource_3000044752173   de            13   \n",
       "1                                    /0940434/_nnbZnb3   la            15   \n",
       "2                           /9200332/ABO__2BZ22634790X  ger             6   \n",
       "3    /2059210/data_sounds_http___imslp_org_wiki_5_L...  deu             9   \n",
       "4    /2048609/data_item_uber_dingler_article_pj199_...   de            12   \n",
       "..                                                 ...  ...           ...   \n",
       "759                         /9200332/ABO__2BZ226348307  ger             6   \n",
       "760       /9200386/BibliographicResource_3000045010262   de             4   \n",
       "761       /9200386/BibliographicResource_3000045248460   de            10   \n",
       "762       /9200386/BibliographicResource_3000135531152   de             5   \n",
       "763       /9200386/BibliographicResource_3000045248646   de            10   \n",
       "\n",
       "     completeness   type  \n",
       "0               9   TEXT  \n",
       "1               0   TEXT  \n",
       "2               5   TEXT  \n",
       "3               0  IMAGE  \n",
       "4               5   TEXT  \n",
       "..            ...    ...  \n",
       "759             5   TEXT  \n",
       "760             7   TEXT  \n",
       "761             8   TEXT  \n",
       "762            10   TEXT  \n",
       "763             8   TEXT  \n",
       "\n",
       "[764 rows x 5 columns]"
      ]
     },
     "execution_count": 3,
     "metadata": {},
     "output_type": "execute_result"
    }
   ],
   "source": [
    "df"
   ]
  },
  {
   "cell_type": "code",
   "execution_count": 4,
   "metadata": {},
   "outputs": [
    {
     "data": {
      "text/plain": [
       "[('de', 569),\n",
       " ('ger', 94),\n",
       " ('hu', 17),\n",
       " ('und', 12),\n",
       " ('deu', 9),\n",
       " ('fre', 9),\n",
       " ('pl', 8),\n",
       " ('Deutsch', 5),\n",
       " ('sv', 5),\n",
       " ('la', 4),\n",
       " ('cat', 4),\n",
       " ('pol', 4),\n",
       " ('da', 4),\n",
       " ('nl', 3),\n",
       " ('swe', 3),\n",
       " ('lat', 3),\n",
       " ('es', 2),\n",
       " ('en', 2),\n",
       " ('hun', 2),\n",
       " ('ita', 1),\n",
       " ('et', 1),\n",
       " ('fr', 1),\n",
       " ('it', 1),\n",
       " ('zxx', 1)]"
      ]
     },
     "execution_count": 4,
     "metadata": {},
     "output_type": "execute_result"
    }
   ],
   "source": [
    "Counter(df['lang']).most_common()"
   ]
  },
  {
   "cell_type": "code",
   "execution_count": 5,
   "metadata": {},
   "outputs": [],
   "source": [
    "def map_language(record):\n",
    "    if record.lang == 'ger' or record.lang == 'deu' or record.lang == 'Deutsch':\n",
    "        return 'de'\n",
    "    elif record.lang == 'hun':\n",
    "        return 'hu'\n",
    "    elif record.lang == 'swe':\n",
    "        return 'sv'\n",
    "    elif record.lang == 'pol':\n",
    "        return 'pl'\n",
    "    elif record.lang == 'fre':\n",
    "        return 'fr'\n",
    "    elif record.lang == 'cat':\n",
    "        return 'ca'\n",
    "    elif record.lang == 'lat':\n",
    "        return 'la'\n",
    "    elif record.lang == 'ita':\n",
    "        return 'it'\n",
    "    return record.lang\n",
    "\n",
    "reader = LocalReader('europeana_test')\n",
    "mapping = ('parallel', ('copy', 'id', 'id'),\n",
    "                       ('sequence', ('copy', 'lang', 'dcLanguage[0]'),\n",
    "                                    ('custom', 'lang', map_language)),\n",
    "                       ('custom', 'title_tokens', lambda record: len(record.title[0].split())),\n",
    "                       ('copy', 'completeness', 'europeanaCompleteness'),\n",
    "                       ('copy', 'type', 'type'))\n",
    "transformed = RecordsTransform(reader, mapping)\n",
    "fltr = ('and', ('exists', ['lang']),\n",
    "               ('neq', ['lang'], 'mul'),\n",
    "               ('neq', ['lang'], 'zxx'),\n",
    "               ('neq', ['lang'], 'und'),\n",
    "               ('lt', ['title_tokens'], 30))\n",
    "filtered = RecordsFilter(transformed, fltr)\n",
    "df = PandasDFWriter().write(filtered)"
   ]
  },
  {
   "cell_type": "code",
   "execution_count": 6,
   "metadata": {},
   "outputs": [
    {
     "data": {
      "text/html": [
       "<div>\n",
       "<style scoped>\n",
       "    .dataframe tbody tr th:only-of-type {\n",
       "        vertical-align: middle;\n",
       "    }\n",
       "\n",
       "    .dataframe tbody tr th {\n",
       "        vertical-align: top;\n",
       "    }\n",
       "\n",
       "    .dataframe thead th {\n",
       "        text-align: right;\n",
       "    }\n",
       "</style>\n",
       "<table border=\"1\" class=\"dataframe\">\n",
       "  <thead>\n",
       "    <tr style=\"text-align: right;\">\n",
       "      <th></th>\n",
       "      <th>id</th>\n",
       "      <th>lang</th>\n",
       "      <th>title_tokens</th>\n",
       "      <th>completeness</th>\n",
       "      <th>type</th>\n",
       "    </tr>\n",
       "  </thead>\n",
       "  <tbody>\n",
       "    <tr>\n",
       "      <th>0</th>\n",
       "      <td>/9200386/BibliographicResource_3000044752173</td>\n",
       "      <td>de</td>\n",
       "      <td>13</td>\n",
       "      <td>9</td>\n",
       "      <td>TEXT</td>\n",
       "    </tr>\n",
       "    <tr>\n",
       "      <th>1</th>\n",
       "      <td>/0940434/_nnbZnb3</td>\n",
       "      <td>la</td>\n",
       "      <td>15</td>\n",
       "      <td>0</td>\n",
       "      <td>TEXT</td>\n",
       "    </tr>\n",
       "    <tr>\n",
       "      <th>2</th>\n",
       "      <td>/9200332/ABO__2BZ22634790X</td>\n",
       "      <td>de</td>\n",
       "      <td>6</td>\n",
       "      <td>5</td>\n",
       "      <td>TEXT</td>\n",
       "    </tr>\n",
       "    <tr>\n",
       "      <th>3</th>\n",
       "      <td>/2059210/data_sounds_http___imslp_org_wiki_5_L...</td>\n",
       "      <td>de</td>\n",
       "      <td>9</td>\n",
       "      <td>0</td>\n",
       "      <td>IMAGE</td>\n",
       "    </tr>\n",
       "    <tr>\n",
       "      <th>4</th>\n",
       "      <td>/2048609/data_item_uber_dingler_article_pj199_...</td>\n",
       "      <td>de</td>\n",
       "      <td>12</td>\n",
       "      <td>5</td>\n",
       "      <td>TEXT</td>\n",
       "    </tr>\n",
       "    <tr>\n",
       "      <th>...</th>\n",
       "      <td>...</td>\n",
       "      <td>...</td>\n",
       "      <td>...</td>\n",
       "      <td>...</td>\n",
       "      <td>...</td>\n",
       "    </tr>\n",
       "    <tr>\n",
       "      <th>746</th>\n",
       "      <td>/9200332/ABO__2BZ226348307</td>\n",
       "      <td>de</td>\n",
       "      <td>6</td>\n",
       "      <td>5</td>\n",
       "      <td>TEXT</td>\n",
       "    </tr>\n",
       "    <tr>\n",
       "      <th>747</th>\n",
       "      <td>/9200386/BibliographicResource_3000045010262</td>\n",
       "      <td>de</td>\n",
       "      <td>4</td>\n",
       "      <td>7</td>\n",
       "      <td>TEXT</td>\n",
       "    </tr>\n",
       "    <tr>\n",
       "      <th>748</th>\n",
       "      <td>/9200386/BibliographicResource_3000045248460</td>\n",
       "      <td>de</td>\n",
       "      <td>10</td>\n",
       "      <td>8</td>\n",
       "      <td>TEXT</td>\n",
       "    </tr>\n",
       "    <tr>\n",
       "      <th>749</th>\n",
       "      <td>/9200386/BibliographicResource_3000135531152</td>\n",
       "      <td>de</td>\n",
       "      <td>5</td>\n",
       "      <td>10</td>\n",
       "      <td>TEXT</td>\n",
       "    </tr>\n",
       "    <tr>\n",
       "      <th>750</th>\n",
       "      <td>/9200386/BibliographicResource_3000045248646</td>\n",
       "      <td>de</td>\n",
       "      <td>10</td>\n",
       "      <td>8</td>\n",
       "      <td>TEXT</td>\n",
       "    </tr>\n",
       "  </tbody>\n",
       "</table>\n",
       "<p>751 rows × 5 columns</p>\n",
       "</div>"
      ],
      "text/plain": [
       "                                                    id lang  title_tokens  \\\n",
       "0         /9200386/BibliographicResource_3000044752173   de            13   \n",
       "1                                    /0940434/_nnbZnb3   la            15   \n",
       "2                           /9200332/ABO__2BZ22634790X   de             6   \n",
       "3    /2059210/data_sounds_http___imslp_org_wiki_5_L...   de             9   \n",
       "4    /2048609/data_item_uber_dingler_article_pj199_...   de            12   \n",
       "..                                                 ...  ...           ...   \n",
       "746                         /9200332/ABO__2BZ226348307   de             6   \n",
       "747       /9200386/BibliographicResource_3000045010262   de             4   \n",
       "748       /9200386/BibliographicResource_3000045248460   de            10   \n",
       "749       /9200386/BibliographicResource_3000135531152   de             5   \n",
       "750       /9200386/BibliographicResource_3000045248646   de            10   \n",
       "\n",
       "     completeness   type  \n",
       "0               9   TEXT  \n",
       "1               0   TEXT  \n",
       "2               5   TEXT  \n",
       "3               0  IMAGE  \n",
       "4               5   TEXT  \n",
       "..            ...    ...  \n",
       "746             5   TEXT  \n",
       "747             7   TEXT  \n",
       "748             8   TEXT  \n",
       "749            10   TEXT  \n",
       "750             8   TEXT  \n",
       "\n",
       "[751 rows x 5 columns]"
      ]
     },
     "execution_count": 6,
     "metadata": {},
     "output_type": "execute_result"
    }
   ],
   "source": [
    "df"
   ]
  },
  {
   "cell_type": "code",
   "execution_count": 8,
   "metadata": {},
   "outputs": [],
   "source": [
    "def map_language(record):\n",
    "    if record.lang == 'ger' or record.lang == 'deu' or record.lang == 'Deutsch':\n",
    "        return 'de'\n",
    "    elif record.lang == 'hun':\n",
    "        return 'hu'\n",
    "    elif record.lang == 'swe':\n",
    "        return 'sv'\n",
    "    elif record.lang == 'pol':\n",
    "        return 'pl'\n",
    "    elif record.lang == 'fre':\n",
    "        return 'fr'\n",
    "    elif record.lang == 'cat':\n",
    "        return 'ca'\n",
    "    elif record.lang == 'lat':\n",
    "        return 'la'\n",
    "    elif record.lang == 'ita':\n",
    "        return 'it'\n",
    "    return record.lang\n",
    "\n",
    "reader = LocalReader('europeana_test')\n",
    "mapping = ('parallel', ('copy', 'id', 'id'),\n",
    "                       ('sequence', ('copy', 'lang', 'dcLanguage[0]'), ('custom', 'lang', map_language)),\n",
    "                       ('custom', 'title_tokens', lambda record: len(record.title[0].split())),\n",
    "                       ('copy', 'completeness', 'europeanaCompleteness'),\n",
    "                       ('copy', 'type', 'type'))\n",
    "transformed = RecordsTransform(reader, mapping)\n",
    "fltr = ('and', ('exists', ['lang']),\n",
    "               ('neq', ['lang'], 'mul'),\n",
    "               ('neq', ['lang'], 'zxx'),\n",
    "               ('neq', ['lang'], 'und'),\n",
    "               ('neq', ['lang'], 'la'),\n",
    "               ('neq', ['lang'], 'sv'),\n",
    "               ('neq', ['lang'], 'es'),\n",
    "               ('neq', ['lang'], 'da'),\n",
    "               ('neq', ['lang'], 'nl'),\n",
    "               ('neq', ['lang'], 'ca'),\n",
    "               ('neq', ['lang'], 'it'),\n",
    "               ('neq', ['lang'], 'et'),\n",
    "               ('neq', ['lang'], 'en'),\n",
    "               ('lt', ['title_tokens'], 30))\n",
    "filtered = RecordsFilter(transformed, fltr)\n",
    "df = PandasDFWriter().write(filtered)"
   ]
  },
  {
   "cell_type": "code",
   "execution_count": 9,
   "metadata": {},
   "outputs": [],
   "source": [
    "from polymatheia.data.writer import LocalWriter\n",
    "writer = LocalWriter('europeana_clean', 'id')\n",
    "writer.write(filtered)\n"
   ]
  },
  {
   "cell_type": "code",
   "execution_count": 11,
   "metadata": {},
   "outputs": [],
   "source": [
    "from polymatheia.data.writer import LocalWriter, CSVWriter\n",
    "writer = LocalWriter('europeana_clean', 'id')\n",
    "writer.write(filtered)\n",
    "\n",
    "writer = CSVWriter('europeana_clean.csv')\n",
    "writer.write(filtered)"
   ]
  },
  {
   "cell_type": "code",
   "execution_count": 12,
   "metadata": {},
   "outputs": [
    {
     "data": {
      "text/plain": [
       "Counter({'de': 677, 'hu': 19, 'pl': 12, 'fr': 10})"
      ]
     },
     "execution_count": 12,
     "metadata": {},
     "output_type": "execute_result"
    }
   ],
   "source": [
    "Counter(df['lang'])"
   ]
  },
  {
   "cell_type": "code",
   "execution_count": 13,
   "metadata": {},
   "outputs": [],
   "source": [
    "de_title_lengths = df[df['lang'] == 'de']['title_tokens']\n",
    "hu_title_lengths = df[df['lang'] == 'hu']['title_tokens']\n",
    "pl_title_lengths = df[df['lang'] == 'pl']['title_tokens']\n",
    "fr_title_lengths = df[df['lang'] == 'fr']['title_tokens']"
   ]
  },
  {
   "cell_type": "code",
   "execution_count": 14,
   "metadata": {},
   "outputs": [
    {
     "data": {
      "text/plain": [
       "MannwhitneyuResult(statistic=4533.0, pvalue=0.027652701983659003)"
      ]
     },
     "execution_count": 14,
     "metadata": {},
     "output_type": "execute_result"
    }
   ],
   "source": [
    "stats.mannwhitneyu(de_title_lengths, hu_title_lengths, alternative='two-sided')"
   ]
  },
  {
   "cell_type": "code",
   "execution_count": 17,
   "metadata": {},
   "outputs": [
    {
     "data": {
      "text/plain": [
       "count    677.000000\n",
       "mean       8.918759\n",
       "std        5.544672\n",
       "min        1.000000\n",
       "25%        5.000000\n",
       "50%        8.000000\n",
       "75%       11.000000\n",
       "max       29.000000\n",
       "Name: title_tokens, dtype: float64"
      ]
     },
     "execution_count": 17,
     "metadata": {},
     "output_type": "execute_result"
    }
   ],
   "source": [
    "de_title_lengths.describe()"
   ]
  },
  {
   "cell_type": "code",
   "execution_count": 18,
   "metadata": {},
   "outputs": [
    {
     "data": {
      "text/plain": [
       "count    19.000000\n",
       "mean     11.263158\n",
       "std       6.279084\n",
       "min       1.000000\n",
       "25%       8.500000\n",
       "50%      13.000000\n",
       "75%      15.000000\n",
       "max      26.000000\n",
       "Name: title_tokens, dtype: float64"
      ]
     },
     "execution_count": 18,
     "metadata": {},
     "output_type": "execute_result"
    }
   ],
   "source": [
    "hu_title_lengths.describe()"
   ]
  },
  {
   "cell_type": "code",
   "execution_count": 19,
   "metadata": {},
   "outputs": [],
   "source": [
    "df2 = DataFrame([{'text': 663, 'image': 12, 'sound': 5},\n",
    "                 {'text': 19, 'image': 0, 'sound': 0},\n",
    "                 {'text': 12, 'image': 0, 'sound': 0},\n",
    "                 {'text': 10, 'image': 0, 'sound': 0}])"
   ]
  },
  {
   "cell_type": "code",
   "execution_count": 20,
   "metadata": {},
   "outputs": [
    {
     "data": {
      "text/html": [
       "<div>\n",
       "<style scoped>\n",
       "    .dataframe tbody tr th:only-of-type {\n",
       "        vertical-align: middle;\n",
       "    }\n",
       "\n",
       "    .dataframe tbody tr th {\n",
       "        vertical-align: top;\n",
       "    }\n",
       "\n",
       "    .dataframe thead th {\n",
       "        text-align: right;\n",
       "    }\n",
       "</style>\n",
       "<table border=\"1\" class=\"dataframe\">\n",
       "  <thead>\n",
       "    <tr style=\"text-align: right;\">\n",
       "      <th></th>\n",
       "      <th>text</th>\n",
       "      <th>image</th>\n",
       "      <th>sound</th>\n",
       "    </tr>\n",
       "  </thead>\n",
       "  <tbody>\n",
       "    <tr>\n",
       "      <th>0</th>\n",
       "      <td>663</td>\n",
       "      <td>12</td>\n",
       "      <td>5</td>\n",
       "    </tr>\n",
       "    <tr>\n",
       "      <th>1</th>\n",
       "      <td>19</td>\n",
       "      <td>0</td>\n",
       "      <td>0</td>\n",
       "    </tr>\n",
       "    <tr>\n",
       "      <th>2</th>\n",
       "      <td>12</td>\n",
       "      <td>0</td>\n",
       "      <td>0</td>\n",
       "    </tr>\n",
       "    <tr>\n",
       "      <th>3</th>\n",
       "      <td>10</td>\n",
       "      <td>0</td>\n",
       "      <td>0</td>\n",
       "    </tr>\n",
       "  </tbody>\n",
       "</table>\n",
       "</div>"
      ],
      "text/plain": [
       "   text  image  sound\n",
       "0   663     12      5\n",
       "1    19      0      0\n",
       "2    12      0      0\n",
       "3    10      0      0"
      ]
     },
     "execution_count": 20,
     "metadata": {},
     "output_type": "execute_result"
    }
   ],
   "source": [
    "df2"
   ]
  },
  {
   "cell_type": "code",
   "execution_count": 21,
   "metadata": {},
   "outputs": [
    {
     "data": {
      "text/plain": [
       "(1.049751420454546,\n",
       " 0.983655785107175,\n",
       " 6,\n",
       " array([[6.63966713e+02, 1.13176144e+01, 4.71567268e+00],\n",
       "        [1.85520111e+01, 3.16227462e-01, 1.31761442e-01],\n",
       "        [1.17170596e+01, 1.99722607e-01, 8.32177531e-02],\n",
       "        [9.76421637e+00, 1.66435506e-01, 6.93481276e-02]]))"
      ]
     },
     "execution_count": 21,
     "metadata": {},
     "output_type": "execute_result"
    }
   ],
   "source": [
    "stats.chi2_contingency(df2)"
   ]
  },
  {
   "cell_type": "code",
   "execution_count": null,
   "metadata": {},
   "outputs": [],
   "source": []
  }
 ],
 "metadata": {
  "kernelspec": {
   "display_name": "Python 3",
   "language": "python",
   "name": "python3"
  },
  "language_info": {
   "codemirror_mode": {
    "name": "ipython",
    "version": 3
   },
   "file_extension": ".py",
   "mimetype": "text/x-python",
   "name": "python",
   "nbconvert_exporter": "python",
   "pygments_lexer": "ipython3",
   "version": "3.8.5"
  }
 },
 "nbformat": 4,
 "nbformat_minor": 4
}
