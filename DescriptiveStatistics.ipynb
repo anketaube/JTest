{
 "cells": [
  {
   "cell_type": "code",
   "execution_count": 1,
   "metadata": {},
   "outputs": [],
   "source": [
    "from collections import Counter\n",
    "from polymatheia.data.reader import LocalReader\n",
    "from polymatheia.data.writer import PandasDFWriter\n",
    "from polymatheia.filter import RecordsFilter\n",
    "from polymatheia.transform import RecordsTransform\n",
    "\n",
    "reader = LocalReader('europeana_test')"
   ]
  },
  {
   "cell_type": "code",
   "execution_count": 2,
   "metadata": {},
   "outputs": [],
   "source": [
    "mapping = ('parallel', ('copy', 'id', 'id'),\n",
    "                       ('copy', 'lang', 'dcLanguage[0]'),\n",
    "                       ('custom', 'title_tokens', lambda record: len(record.title[0].split())),\n",
    "                       ('copy', 'completeness', 'europeanaCompleteness'),\n",
    "                       ('copy', 'type', 'type'))\n",
    "transformed = RecordsTransform(reader, mapping)\n",
    "df = PandasDFWriter().write(transformed)"
   ]
  },
  {
   "cell_type": "code",
   "execution_count": 3,
   "metadata": {},
   "outputs": [
    {
     "data": {
      "text/html": [
       "<div>\n",
       "<style scoped>\n",
       "    .dataframe tbody tr th:only-of-type {\n",
       "        vertical-align: middle;\n",
       "    }\n",
       "\n",
       "    .dataframe tbody tr th {\n",
       "        vertical-align: top;\n",
       "    }\n",
       "\n",
       "    .dataframe thead th {\n",
       "        text-align: right;\n",
       "    }\n",
       "</style>\n",
       "<table border=\"1\" class=\"dataframe\">\n",
       "  <thead>\n",
       "    <tr style=\"text-align: right;\">\n",
       "      <th></th>\n",
       "      <th>id</th>\n",
       "      <th>lang</th>\n",
       "      <th>title_tokens</th>\n",
       "      <th>completeness</th>\n",
       "      <th>type</th>\n",
       "    </tr>\n",
       "  </thead>\n",
       "  <tbody>\n",
       "    <tr>\n",
       "      <th>0</th>\n",
       "      <td>/9200386/BibliographicResource_3000044752173</td>\n",
       "      <td>de</td>\n",
       "      <td>13</td>\n",
       "      <td>9</td>\n",
       "      <td>TEXT</td>\n",
       "    </tr>\n",
       "    <tr>\n",
       "      <th>1</th>\n",
       "      <td>/0940434/_nnbZnb3</td>\n",
       "      <td>la</td>\n",
       "      <td>15</td>\n",
       "      <td>0</td>\n",
       "      <td>TEXT</td>\n",
       "    </tr>\n",
       "    <tr>\n",
       "      <th>2</th>\n",
       "      <td>/9200332/ABO__2BZ22634790X</td>\n",
       "      <td>ger</td>\n",
       "      <td>6</td>\n",
       "      <td>5</td>\n",
       "      <td>TEXT</td>\n",
       "    </tr>\n",
       "    <tr>\n",
       "      <th>3</th>\n",
       "      <td>/2059210/data_sounds_http___imslp_org_wiki_5_L...</td>\n",
       "      <td>deu</td>\n",
       "      <td>9</td>\n",
       "      <td>0</td>\n",
       "      <td>IMAGE</td>\n",
       "    </tr>\n",
       "    <tr>\n",
       "      <th>4</th>\n",
       "      <td>/2048609/data_item_uber_dingler_article_pj199_...</td>\n",
       "      <td>de</td>\n",
       "      <td>12</td>\n",
       "      <td>5</td>\n",
       "      <td>TEXT</td>\n",
       "    </tr>\n",
       "    <tr>\n",
       "      <th>...</th>\n",
       "      <td>...</td>\n",
       "      <td>...</td>\n",
       "      <td>...</td>\n",
       "      <td>...</td>\n",
       "      <td>...</td>\n",
       "    </tr>\n",
       "    <tr>\n",
       "      <th>1018</th>\n",
       "      <td>/9200386/BibliographicResource_3000135531152</td>\n",
       "      <td>de</td>\n",
       "      <td>5</td>\n",
       "      <td>10</td>\n",
       "      <td>TEXT</td>\n",
       "    </tr>\n",
       "    <tr>\n",
       "      <th>1019</th>\n",
       "      <td>/9200386/BibliographicResource_3000045351142</td>\n",
       "      <td>de</td>\n",
       "      <td>41</td>\n",
       "      <td>10</td>\n",
       "      <td>TEXT</td>\n",
       "    </tr>\n",
       "    <tr>\n",
       "      <th>1020</th>\n",
       "      <td>/2048077/Athena_Plus_ProvidedCHO_Bildarchiv_Fo...</td>\n",
       "      <td>None</td>\n",
       "      <td>16</td>\n",
       "      <td>0</td>\n",
       "      <td>IMAGE</td>\n",
       "    </tr>\n",
       "    <tr>\n",
       "      <th>1021</th>\n",
       "      <td>/2048409/item_IVBIXA3ZCM4AYHRC3IMMY2CIFJNJMNT3</td>\n",
       "      <td>None</td>\n",
       "      <td>15</td>\n",
       "      <td>7</td>\n",
       "      <td>IMAGE</td>\n",
       "    </tr>\n",
       "    <tr>\n",
       "      <th>1022</th>\n",
       "      <td>/9200386/BibliographicResource_3000045248646</td>\n",
       "      <td>de</td>\n",
       "      <td>10</td>\n",
       "      <td>8</td>\n",
       "      <td>TEXT</td>\n",
       "    </tr>\n",
       "  </tbody>\n",
       "</table>\n",
       "<p>1023 rows × 5 columns</p>\n",
       "</div>"
      ],
      "text/plain": [
       "                                                     id  lang  title_tokens  \\\n",
       "0          /9200386/BibliographicResource_3000044752173    de            13   \n",
       "1                                     /0940434/_nnbZnb3    la            15   \n",
       "2                            /9200332/ABO__2BZ22634790X   ger             6   \n",
       "3     /2059210/data_sounds_http___imslp_org_wiki_5_L...   deu             9   \n",
       "4     /2048609/data_item_uber_dingler_article_pj199_...    de            12   \n",
       "...                                                 ...   ...           ...   \n",
       "1018       /9200386/BibliographicResource_3000135531152    de             5   \n",
       "1019       /9200386/BibliographicResource_3000045351142    de            41   \n",
       "1020  /2048077/Athena_Plus_ProvidedCHO_Bildarchiv_Fo...  None            16   \n",
       "1021     /2048409/item_IVBIXA3ZCM4AYHRC3IMMY2CIFJNJMNT3  None            15   \n",
       "1022       /9200386/BibliographicResource_3000045248646    de            10   \n",
       "\n",
       "      completeness   type  \n",
       "0                9   TEXT  \n",
       "1                0   TEXT  \n",
       "2                5   TEXT  \n",
       "3                0  IMAGE  \n",
       "4                5   TEXT  \n",
       "...            ...    ...  \n",
       "1018            10   TEXT  \n",
       "1019            10   TEXT  \n",
       "1020             0  IMAGE  \n",
       "1021             7  IMAGE  \n",
       "1022             8   TEXT  \n",
       "\n",
       "[1023 rows x 5 columns]"
      ]
     },
     "execution_count": 3,
     "metadata": {},
     "output_type": "execute_result"
    }
   ],
   "source": [
    "df"
   ]
  },
  {
   "cell_type": "code",
   "execution_count": 5,
   "metadata": {},
   "outputs": [
    {
     "data": {
      "text/plain": [
       "[(0, 228), (8, 221), (10, 165), (7, 139), (9, 101), (5, 89), (6, 80)]"
      ]
     },
     "execution_count": 5,
     "metadata": {},
     "output_type": "execute_result"
    }
   ],
   "source": [
    "Counter(df['completeness']).most_common()"
   ]
  },
  {
   "cell_type": "code",
   "execution_count": 6,
   "metadata": {},
   "outputs": [
    {
     "data": {
      "text/plain": [
       "count    1023.000000\n",
       "mean        6.085044\n",
       "std         3.547497\n",
       "min         0.000000\n",
       "25%         5.000000\n",
       "50%         7.000000\n",
       "75%         9.000000\n",
       "max        10.000000\n",
       "Name: completeness, dtype: float64"
      ]
     },
     "execution_count": 6,
     "metadata": {},
     "output_type": "execute_result"
    }
   ],
   "source": [
    "df['completeness'].describe()"
   ]
  },
  {
   "cell_type": "code",
   "execution_count": 7,
   "metadata": {},
   "outputs": [
    {
     "data": {
      "text/plain": [
       "count    1023.000000\n",
       "mean       11.198436\n",
       "std        11.947239\n",
       "min         1.000000\n",
       "25%         5.000000\n",
       "50%         9.000000\n",
       "75%        14.000000\n",
       "max       249.000000\n",
       "Name: title_tokens, dtype: float64"
      ]
     },
     "execution_count": 7,
     "metadata": {},
     "output_type": "execute_result"
    }
   ],
   "source": [
    "df['title_tokens'].describe()"
   ]
  },
  {
   "cell_type": "code",
   "execution_count": 9,
   "metadata": {},
   "outputs": [
    {
     "data": {
      "text/plain": [
       "count    1023.000000\n",
       "mean       11.198436\n",
       "std        11.947239\n",
       "min         1.000000\n",
       "25%         5.000000\n",
       "50%         9.000000\n",
       "75%        14.000000\n",
       "98%        38.000000\n",
       "max       249.000000\n",
       "Name: title_tokens, dtype: float64"
      ]
     },
     "execution_count": 9,
     "metadata": {},
     "output_type": "execute_result"
    }
   ],
   "source": [
    "df['title_tokens'].describe(percentiles=[0.25, 0.5, 0.75, 0.98])"
   ]
  },
  {
   "cell_type": "code",
   "execution_count": null,
   "metadata": {},
   "outputs": [],
   "source": []
  }
 ],
 "metadata": {
  "kernelspec": {
   "display_name": "Python 3",
   "language": "python",
   "name": "python3"
  },
  "language_info": {
   "codemirror_mode": {
    "name": "ipython",
    "version": 3
   },
   "file_extension": ".py",
   "mimetype": "text/x-python",
   "name": "python",
   "nbconvert_exporter": "python",
   "pygments_lexer": "ipython3",
   "version": "3.8.5"
  }
 },
 "nbformat": 4,
 "nbformat_minor": 4
}
