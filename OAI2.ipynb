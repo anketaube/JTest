{
 "cells": [
  {
   "cell_type": "markdown",
   "metadata": {},
   "source": [
    "Für Anfragen über die OAI2 Schnittstelle der Deutschen Nationalbibliothek wird sickle (https://sickle.readthedocs.io/en/latest/tutorial.html) verwendet"
   ]
  },
  {
   "cell_type": "code",
   "execution_count": 1,
   "metadata": {},
   "outputs": [],
   "source": [
    "from sickle import Sickle\n",
    "from lxml import etree"
   ]
  },
  {
   "cell_type": "markdown",
   "metadata": {},
   "source": [
    "Die OAI2 Basis URL ist http://services.dnb.de/oai2/repository"
   ]
  },
  {
   "cell_type": "code",
   "execution_count": 2,
   "metadata": {},
   "outputs": [],
   "source": [
    "sickle = Sickle('https://obv-at-oenb.alma.exlibrisgroup.com/view/oai/43ACC_ONB/request')"
   ]
  },
  {
   "cell_type": "markdown",
   "metadata": {},
   "source": [
    "Zuerst werden alle über OAI2 verfügbaren Sets aufgelistet"
   ]
  },
  {
   "cell_type": "code",
   "execution_count": 3,
   "metadata": {},
   "outputs": [
    {
     "name": "stdout",
     "output_type": "stream",
     "text": [
      "setSpec value for selective harvesting: PAPYRUSDC\n",
      "Name of the set (setName): Papyri records in DC simple\n",
      "\n",
      "setSpec value for selective harvesting: FULLMARC\n",
      "Name of the set (setName): Complete set of ONB records in MARC\n",
      "\n",
      "setSpec value for selective harvesting: HANNAMARC\n",
      "Name of the set (setName): HANNA records in MARC\n",
      "\n",
      "setSpec value for selective harvesting: ESPERANTOMARC\n",
      "Name of the set (setName): Esperanto records in MARC\n",
      "\n",
      "setSpec value for selective harvesting: ESPERANTODC\n",
      "Name of the set (setName): Esperanto Records in DC simple\n",
      "\n",
      "setSpec value for selective harvesting: PAPYRUSMARC\n",
      "Name of the set (setName): Papyri records in MARC\n",
      "\n",
      "setSpec value for selective harvesting: HANNADC\n",
      "Name of the set (setName): HANNA records in DC simple\n",
      "\n",
      "setSpec value for selective harvesting: ABODC\n",
      "Name of the set (setName): Austrian Books Online in DC simple\n",
      "\n",
      "setSpec value for selective harvesting: ARIADNEDC\n",
      "Name of the set (setName): Ariadne records in DC simple\n",
      "\n",
      "setSpec value for selective harvesting: ARIADNEMARC\n",
      "Name of the set (setName): Ariadne records in MARC\n",
      "\n",
      "setSpec value for selective harvesting: MAPMARC\n",
      "Name of the set (setName): Maps and Globes records in MARC\n",
      "\n",
      "setSpec value for selective harvesting: FULLDC\n",
      "Name of the set (setName): Complete set of ONB records in DC simple\n",
      "\n",
      "setSpec value for selective harvesting: MAPDC\n",
      "Name of the set (setName): Maps and Globes records in DC simple\n",
      "\n",
      "setSpec value for selective harvesting: ABOMARC\n",
      "Name of the set (setName): Austrian Books Online in MARC\n",
      "\n",
      "setSpec value for selective harvesting: OAIBIBLIOA\n",
      "Name of the set (setName): Austrian Bibliography A\n",
      "\n",
      "setSpec value for selective harvesting: MUSHANDC\n",
      "Name of the set (setName): Musikhandschriften in DC\n",
      "\n",
      "setSpec value for selective harvesting: MUSHANMARC\n",
      "Name of the set (setName): Music Manuscripts\n",
      "\n",
      "setSpec value for selective harvesting: CERLMARC\n",
      "Name of the set (setName): Old prints and manuscripts for CERL portal\n",
      "\n"
     ]
    }
   ],
   "source": [
    "oai_sets = sickle.ListSets()\n",
    "for oai_set in oai_sets:\n",
    "    print('setSpec value for selective harvesting: ' + oai_set.setSpec)\n",
    "    print('Name of the set (setName): ' + oai_set.setName + '\\n')"
   ]
  },
  {
   "cell_type": "markdown",
   "metadata": {},
   "source": [
    "Jetzt werden alle verfügbaren Metadatenformate aufgelistet."
   ]
  },
  {
   "cell_type": "code",
   "execution_count": 4,
   "metadata": {},
   "outputs": [
    {
     "name": "stdout",
     "output_type": "stream",
     "text": [
      "mods\n",
      "oai_dc\n",
      "oai_qdc\n",
      "marc21\n"
     ]
    }
   ],
   "source": [
    "oai_formats = sickle.ListMetadataFormats()\n",
    "for oai_format in oai_formats:\n",
    "    print(oai_format.metadataPrefix)"
   ]
  },
  {
   "cell_type": "markdown",
   "metadata": {},
   "source": [
    "Liste alle Buchhändlerportraits ab 2019-04-01 auf."
   ]
  },
  {
   "cell_type": "code",
   "execution_count": 5,
   "metadata": {},
   "outputs": [
    {
     "name": "stdout",
     "output_type": "stream",
     "text": [
      "1: Geschlechterdifferenzen in der Bildungssozialisation revisited ein Plädoyer für eine ganzheitliche Herangehensweise in Forschung, Intervention und Implementierung\n",
      "Jöstl, Gregoraut\n",
      "2: Alternative Vermittler, Identifizierung und Analyse journalistischer Vermittlungsleistungen im Internet\n",
      "Barrantes Leon, Eloy Andreasaut\n",
      "3: Von \"re-creation\" bis \"glorification\" - zur musikalischen Inszenierung des historischen Broadway-Sounds in amerikanischen Musicals des späten 20. Jahrhunderts\n",
      "Zagozdzon, Agnieszka1979-(DE-588)105018615Xaut\n",
      "4: Students' interactions and experiences in classroom activities that aim for co-creativity?\n",
      "Schmoelz, Alexanderaut\n",
      "5: Ansuchen um Tausch von Dissertationen\n",
      "NationalbibliothekWien(DE-588)19913-8aut\n",
      "6: Verkehrs- und Mobilitätserhebungen Einführung in Gender Planning\n",
      "Knoll, Bente1974-(DE-588)132826380aut\n",
      "7: Doctoral theses at NTNU\n",
      "Norges teknisk-naturvitenskapelige universitet(DE-588)5180253-3aut\n",
      "8: Frömmigkeit und Wissenschaft Ernst Troeltsch und sein theologisches Programm\n",
      "Apfelbacher, Karl-Ernst1940-2015(DE-588)131594974aut\n",
      "9: Versuche Über elektrolytische Oxydation und Reduktion\n",
      "Beck, Jacobaut\n",
      "10: Beiträge zur Kenntnis der Metalle der Cergruppe\n",
      "Beck, Hansaut\n",
      "11: Über p-Leukanilin und dessen Derivate\n",
      "Beetz, Max1883-(DE-588)1160760799aut\n",
      "12: Museum Philologicum et historicum, complectens: I. Jsaaci Casauboni ac Satyrica Graecorum poesi ... II. Ejusdem quatuor epistolas ... II. Euripidae Cyclopene ... IV. Inscriptionem veterem graecam nuper ad urbem in Via Appia effossam ... V. Aegidii Strauchii Olympikon agona. VI. Joh. Lehmanni Dissertationem historicam de Serapiae Aegyptiorum Deo. Thomas Crenius conlegit (etc.)\n",
      "Crenius, Thomas1648-1728(DE-588)100095089edt\n",
      "13: <<Die>> Theologie des Leibes von Papst Johannes Paul II. philosophische und theologische Grundlagen\n",
      "Rimmel, Thomas Maria1964-(DE-588)1050990366aut\n",
      "14: Modeling of plasma rotation in tokamaks\n",
      "Martitsch, Andreas Frankaut\n",
      "15: Intelligent supporting technologies for the maintenance of product configuration systems\n",
      "Speiser-Reinfrank, Florianaut\n",
      "16: <<The>> microbiome of controlled built environments\n",
      "Mahnert, Alexanderaut\n",
      "17: Axiomatic description of Gröbner reduction\n",
      "Fürst, Christophaut\n",
      "18: Probes and potential drugs for lysosomal diseases and Alzheimer´s\n",
      "Thonhofer, Martin Simonaut\n",
      "19: Printed organic electrochemical transistors performance parameters and applications\n",
      "Hütter, Philippaut\n",
      "20: Gutachten über Dissertationen an der Universität Wien\n",
      "Höfler, Otto1901-1987(DE-588)118551914aut\n",
      "21: Gutachten über Dissertationen an der Universität München\n",
      "Höfler, Otto1901-1987(DE-588)118551914aut\n",
      "22: Stellungnahme zur Dissertation von Hermann Reichert\n",
      "Höfler, Otto1901-1987(DE-588)118551914aut\n",
      "23: Sisters - Cyborgs - Drags das Denken in Begriffspersonen der Gender Studies\n",
      "Mertlitsch, Kirstin(DE-588)1095570242aut\n",
      "24: Schriftwechsel zur Dissertation von Hermann Reichert\n",
      "Höfler, Otto1901-1987(DE-588)118551914aut\n",
      "25: <<Der>> Lektor und sein Autor vergleichende Fallstudien zum Suhrkamp Verlag\n",
      "Sprengel, Marja-Christine(DE-588)1111909636aut\n",
      "26: It's about time model-based mutation testing for synchronous and asynchronous timed systems = Modellbasiertes Mutationstesten von synchronen und asynchronen zeitkritischen Systemen\n",
      "Lorber, Florian Lukasaut\n",
      "27: Ribosomal proteins as translational regulators of PTC-readthrough in the context of Epidermolysis bullosa\n",
      "Brandl, Clemensaut\n",
      "28: Interferometric vibrometry for combustion dynamics\n",
      "Peterleithner, Johannesaut\n",
      "29: Development of an operation strategy for plug-in hybrid electric vehicles long-term prediction and adaptation based on past vehicle and driver data\n",
      "Kraus, Haraldaut\n",
      "30: \"Uninteressiertes Weltinteresse\" über die Ausbildung einer ästhetischen (Denk-)Haltung im Werk Hannah Arendts\n",
      "Pavlik, Jennifer1983-(DE-588)142151033aut\n",
      "31: New challenges in digital forensics online storage and anonymous communication\n",
      "Mulazzani, Martinaut\n",
      "32: <<The>> fish gut microbiome contributions to its characterization and potential applications\n",
      "Ghanbari, Mahdiaut\n",
      "33: Auxiliary master equation approach for correlated quantum impurity problems out of equilibrium\n",
      "Dorda, Antoniusaut\n",
      "34: Building with lines efficient 3D scene abstraction for the built environment\n",
      "Hofer, Manuelaut\n",
      "35: Condition monitoring of lithium iron phosphate batteries by a probabilistic and a sensor-based approach\n",
      "Gallien, Thomasaut\n",
      "36: Katholische Frauenbewegung in Deutschland 1945-1962 Politik, Geschlecht und Religiosität im Katholischen Deutschen Frauenbund\n",
      "Illemann, Regina1982-(DE-588)1120623863aut\n",
      "37: Fügetechnik im UHPC-Schalenbau\n",
      "Santner, Gerhardaut\n",
      "38: Stahlbauliche Tragfähigkeit, Betontragfähigkeit und Verformungsverhalten von Verankerungsringen im Druckrohrleitungsbau\n",
      "Ecker, Alexanderaut\n"
     ]
    }
   ],
   "source": [
    "namespaces = {\n",
    "    'oai': 'http://www.openarchives.org/OAI/2.0/',\n",
    "    'oai_dc': 'http://www.openarchives.org/OAI/2.0/oai_dc/',\n",
    "    'dc': 'http://purl.org/dc/elements/1.1/'\n",
    "}\n",
    "\n",
    "count=0\n",
    "\n",
    "for record in sickle.ListRecords(**{'metadataPrefix': 'oai_dc', 'set': 'FULLDC', 'from': '2019-04-30'}):\n",
    "    \n",
    "    if ('Dissertation' in record.raw):\n",
    "        #print('-' + record.raw + '-')\n",
    "        tree = etree.ElementTree(record.xml)\n",
    "        result = tree.xpath('/oai:record/oai:metadata/oai_dc:dc/dc:title/text()', namespaces=namespaces)\n",
    "        if (result):\n",
    "            count += 1\n",
    "            author = tree.xpath('/oai:record/oai:metadata/oai_dc:dc/dc:contributor/text()', namespaces=namespaces)\n",
    "            print(str(count) + \": \" + result[0])\n",
    "            if author:\n",
    "                print(author[0])"
   ]
  },
  {
   "cell_type": "code",
   "execution_count": null,
   "metadata": {},
   "outputs": [],
   "source": []
  }
 ],
 "metadata": {
  "kernelspec": {
   "display_name": "pydays19",
   "language": "python",
   "name": "pydays19"
  },
  "language_info": {
   "codemirror_mode": {
    "name": "ipython",
    "version": 3
   },
   "file_extension": ".py",
   "mimetype": "text/x-python",
   "name": "python",
   "nbconvert_exporter": "python",
   "pygments_lexer": "ipython3",
   "version": "3.6.7"
  }
 },
 "nbformat": 4,
 "nbformat_minor": 2
}
